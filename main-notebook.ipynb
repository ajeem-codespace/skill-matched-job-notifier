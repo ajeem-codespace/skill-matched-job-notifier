{
 "cells": [
  {
   "cell_type": "markdown",
   "id": "b850bd75-1843-4459-a231-0dfa32f81bdf",
   "metadata": {},
   "source": [
    "#### Importing Necessary libraries"
   ]
  },
  {
   "cell_type": "code",
   "execution_count": 29,
   "id": "c2e105e1-d642-499a-bad5-4fcf1cdffd43",
   "metadata": {},
   "outputs": [],
   "source": [
    "import pandas as pd\n",
    "import numpy as np\n",
    "import re\n",
    "from IPython.display import display\n",
    "from sklearn.feature_extraction.text import TfidfVectorizer\n",
    "import joblib \n",
    "import os \n",
    "from sklearn.cluster import KMeans\n",
    "from sklearn.metrics import silhouette_score\n",
    "import matplotlib.pyplot as plt\n",
    "import numpy as np"
   ]
  },
  {
   "cell_type": "markdown",
   "id": "10090e08-403a-49c0-a65f-a4c604d0d3f2",
   "metadata": {},
   "source": [
    "#### Data Loading"
   ]
  },
  {
   "cell_type": "code",
   "execution_count": 2,
   "id": "fbdd4f8c-f6bb-4399-ad7e-2eaa3cd04ca0",
   "metadata": {},
   "outputs": [],
   "source": [
    "df = pd.read_csv(\"data/karkidi_jobs_selenium_BULK_datascience.csv\")"
   ]
  },
  {
   "cell_type": "markdown",
   "id": "cfc3d2b5-21cc-4c0d-b487-a519316b6399",
   "metadata": {},
   "source": [
    "#### Data Cleaning and Preprocessing"
   ]
  },
  {
   "cell_type": "code",
   "execution_count": 3,
   "id": "729438f9-f99a-4e1b-a1b2-dee844c48c7c",
   "metadata": {},
   "outputs": [
    {
     "data": {
      "text/html": [
       "<div>\n",
       "<style scoped>\n",
       "    .dataframe tbody tr th:only-of-type {\n",
       "        vertical-align: middle;\n",
       "    }\n",
       "\n",
       "    .dataframe tbody tr th {\n",
       "        vertical-align: top;\n",
       "    }\n",
       "\n",
       "    .dataframe thead th {\n",
       "        text-align: right;\n",
       "    }\n",
       "</style>\n",
       "<table border=\"1\" class=\"dataframe\">\n",
       "  <thead>\n",
       "    <tr style=\"text-align: right;\">\n",
       "      <th></th>\n",
       "      <th>Title</th>\n",
       "      <th>Company</th>\n",
       "      <th>Location</th>\n",
       "      <th>Experience</th>\n",
       "      <th>Summary</th>\n",
       "      <th>Skills</th>\n",
       "      <th>Posting_Date</th>\n",
       "      <th>Job_URL</th>\n",
       "      <th>Job_Type</th>\n",
       "      <th>Scraped_Timestamp</th>\n",
       "    </tr>\n",
       "  </thead>\n",
       "  <tbody>\n",
       "    <tr>\n",
       "      <th>0</th>\n",
       "      <td>Machine Learning Physical Design Engineer</td>\n",
       "      <td>Google</td>\n",
       "      <td>Bengaluru, Karnataka, India</td>\n",
       "      <td>4-6 year</td>\n",
       "      <td>Minimum qualifications: Bachelor's degree in E...</td>\n",
       "      <td>Aartificial intelligence,Algorithms,Data struc...</td>\n",
       "      <td>20 May 2025</td>\n",
       "      <td>https://www.karkidi.com/job-details/89536-mach...</td>\n",
       "      <td>Full Time</td>\n",
       "      <td>2025-05-20T17:56:56.028158</td>\n",
       "    </tr>\n",
       "    <tr>\n",
       "      <th>1</th>\n",
       "      <td>Staff Software Engineer - Monetization, Poe (R...</td>\n",
       "      <td>Quora, Inc.</td>\n",
       "      <td>India</td>\n",
       "      <td>8-10 year</td>\n",
       "      <td>About Quora: Quora’s mission is to grow and sh...</td>\n",
       "      <td>Aartificial intelligence,Analytical and Proble...</td>\n",
       "      <td>17 May 2025</td>\n",
       "      <td>https://www.karkidi.com/job-details/89511-staf...</td>\n",
       "      <td>Full Time</td>\n",
       "      <td>2025-05-20T17:56:56.029094</td>\n",
       "    </tr>\n",
       "    <tr>\n",
       "      <th>2</th>\n",
       "      <td>Staff Backend Engineer - Bot Creator Ecosystem...</td>\n",
       "      <td>Quora, Inc.</td>\n",
       "      <td>India</td>\n",
       "      <td>8-10 year</td>\n",
       "      <td>About Quora: Quora’s mission is to grow and sh...</td>\n",
       "      <td>Aartificial intelligence,API,Data science tech...</td>\n",
       "      <td>14 May 2025</td>\n",
       "      <td>https://www.karkidi.com/job-details/89486-staf...</td>\n",
       "      <td>Full Time</td>\n",
       "      <td>2025-05-20T17:56:56.029800</td>\n",
       "    </tr>\n",
       "    <tr>\n",
       "      <th>3</th>\n",
       "      <td>Senior Backend Engineer - Bot Creator Ecosyste...</td>\n",
       "      <td>Quora, Inc.</td>\n",
       "      <td>India</td>\n",
       "      <td>6-8 year</td>\n",
       "      <td>About Quora: Quora’s mission is to grow and sh...</td>\n",
       "      <td>Aartificial intelligence,API,Data science tech...</td>\n",
       "      <td>14 May 2025</td>\n",
       "      <td>https://www.karkidi.com/job-details/89469-seni...</td>\n",
       "      <td>Full Time</td>\n",
       "      <td>2025-05-20T17:56:56.030515</td>\n",
       "    </tr>\n",
       "    <tr>\n",
       "      <th>4</th>\n",
       "      <td>Data Scientist Lead - AIML</td>\n",
       "      <td>JPMorgan Chase</td>\n",
       "      <td>Bengaluru, Karnataka, India</td>\n",
       "      <td>6-8 year</td>\n",
       "      <td>We have an opportunity to impact your career a...</td>\n",
       "      <td>Aartificial intelligence,Data science techniqu...</td>\n",
       "      <td>13 May 2025</td>\n",
       "      <td>https://www.karkidi.com/job-details/89455-data...</td>\n",
       "      <td>Full Time</td>\n",
       "      <td>2025-05-20T17:56:56.031249</td>\n",
       "    </tr>\n",
       "  </tbody>\n",
       "</table>\n",
       "</div>"
      ],
      "text/plain": [
       "                                               Title         Company  \\\n",
       "0          Machine Learning Physical Design Engineer          Google   \n",
       "1  Staff Software Engineer - Monetization, Poe (R...     Quora, Inc.   \n",
       "2  Staff Backend Engineer - Bot Creator Ecosystem...     Quora, Inc.   \n",
       "3  Senior Backend Engineer - Bot Creator Ecosyste...     Quora, Inc.   \n",
       "4                         Data Scientist Lead - AIML  JPMorgan Chase   \n",
       "\n",
       "                      Location Experience  \\\n",
       "0  Bengaluru, Karnataka, India   4-6 year   \n",
       "1                        India  8-10 year   \n",
       "2                        India  8-10 year   \n",
       "3                        India   6-8 year   \n",
       "4  Bengaluru, Karnataka, India   6-8 year   \n",
       "\n",
       "                                             Summary  \\\n",
       "0  Minimum qualifications: Bachelor's degree in E...   \n",
       "1  About Quora: Quora’s mission is to grow and sh...   \n",
       "2  About Quora: Quora’s mission is to grow and sh...   \n",
       "3  About Quora: Quora’s mission is to grow and sh...   \n",
       "4  We have an opportunity to impact your career a...   \n",
       "\n",
       "                                              Skills Posting_Date  \\\n",
       "0  Aartificial intelligence,Algorithms,Data struc...  20 May 2025   \n",
       "1  Aartificial intelligence,Analytical and Proble...  17 May 2025   \n",
       "2  Aartificial intelligence,API,Data science tech...  14 May 2025   \n",
       "3  Aartificial intelligence,API,Data science tech...  14 May 2025   \n",
       "4  Aartificial intelligence,Data science techniqu...  13 May 2025   \n",
       "\n",
       "                                             Job_URL   Job_Type  \\\n",
       "0  https://www.karkidi.com/job-details/89536-mach...  Full Time   \n",
       "1  https://www.karkidi.com/job-details/89511-staf...  Full Time   \n",
       "2  https://www.karkidi.com/job-details/89486-staf...  Full Time   \n",
       "3  https://www.karkidi.com/job-details/89469-seni...  Full Time   \n",
       "4  https://www.karkidi.com/job-details/89455-data...  Full Time   \n",
       "\n",
       "            Scraped_Timestamp  \n",
       "0  2025-05-20T17:56:56.028158  \n",
       "1  2025-05-20T17:56:56.029094  \n",
       "2  2025-05-20T17:56:56.029800  \n",
       "3  2025-05-20T17:56:56.030515  \n",
       "4  2025-05-20T17:56:56.031249  "
      ]
     },
     "metadata": {},
     "output_type": "display_data"
    },
    {
     "name": "stdout",
     "output_type": "stream",
     "text": [
      "<bound method DataFrame.info of                                                  Title         Company  \\\n",
      "0            Machine Learning Physical Design Engineer          Google   \n",
      "1    Staff Software Engineer - Monetization, Poe (R...     Quora, Inc.   \n",
      "2    Staff Backend Engineer - Bot Creator Ecosystem...     Quora, Inc.   \n",
      "3    Senior Backend Engineer - Bot Creator Ecosyste...     Quora, Inc.   \n",
      "4                           Data Scientist Lead - AIML  JPMorgan Chase   \n",
      "..                                                 ...             ...   \n",
      "205        Data Scientist, Product, Google Ads Billing          Google   \n",
      "206                   AIML - Language Engineer (India)      Apple Inc.   \n",
      "207                    Senior Software Engineer - Data          Enlyft   \n",
      "208              Principal Software Engineer - Backend          Enlyft   \n",
      "209                          Principal Engineer - Data          Enlyft   \n",
      "\n",
      "                        Location  Experience  \\\n",
      "0    Bengaluru, Karnataka, India    4-6 year   \n",
      "1                          India   8-10 year   \n",
      "2                          India   8-10 year   \n",
      "3                          India    6-8 year   \n",
      "4    Bengaluru, Karnataka, India    6-8 year   \n",
      "..                           ...         ...   \n",
      "205  Bengaluru, Karnataka, India    6-8 year   \n",
      "206  Hyderabad, Telangana, India    6-8 year   \n",
      "207     Pune, Maharashtra, India   8-10 year   \n",
      "208     Pune, Maharashtra, India  14-16 year   \n",
      "209     Pune, Maharashtra, India  14-16 year   \n",
      "\n",
      "                                               Summary  \\\n",
      "0    Minimum qualifications: Bachelor's degree in E...   \n",
      "1    About Quora: Quora’s mission is to grow and sh...   \n",
      "2    About Quora: Quora’s mission is to grow and sh...   \n",
      "3    About Quora: Quora’s mission is to grow and sh...   \n",
      "4    We have an opportunity to impact your career a...   \n",
      "..                                                 ...   \n",
      "205  Minimum qualifications: Master's degree in Sta...   \n",
      "206  People at Apple don’t just build products — th...   \n",
      "207  Data and AI are at the core of the Enlyft plat...   \n",
      "208  The Principal Software Engineer is charged wit...   \n",
      "209  Data and AI are at the core of the Enlyft plat...   \n",
      "\n",
      "                                                Skills Posting_Date  \\\n",
      "0    Aartificial intelligence,Algorithms,Data struc...  20 May 2025   \n",
      "1    Aartificial intelligence,Analytical and Proble...  17 May 2025   \n",
      "2    Aartificial intelligence,API,Data science tech...  14 May 2025   \n",
      "3    Aartificial intelligence,API,Data science tech...  14 May 2025   \n",
      "4    Aartificial intelligence,Data science techniqu...  13 May 2025   \n",
      "..                                                 ...          ...   \n",
      "205  Data science techniques,Database,MATLAB Progra...  25 Dec 2024   \n",
      "206  Aartificial intelligence,C++,Data Classificati...  23 Dec 2024   \n",
      "207  Amazon RedShift,Amazon Simple Storage Service ...  22 Dec 2024   \n",
      "208  Aartificial intelligence,Analytical and Proble...  22 Dec 2024   \n",
      "209  Amazon RedShift,Amazon Simple Storage Service ...  22 Dec 2024   \n",
      "\n",
      "                                               Job_URL   Job_Type  \\\n",
      "0    https://www.karkidi.com/job-details/89536-mach...  Full Time   \n",
      "1    https://www.karkidi.com/job-details/89511-staf...  Full Time   \n",
      "2    https://www.karkidi.com/job-details/89486-staf...  Full Time   \n",
      "3    https://www.karkidi.com/job-details/89469-seni...  Full Time   \n",
      "4    https://www.karkidi.com/job-details/89455-data...  Full Time   \n",
      "..                                                 ...        ...   \n",
      "205  https://www.karkidi.com/job-details/86777-data...  Full Time   \n",
      "206  https://www.karkidi.com/job-details/86755-aiml...  Full Time   \n",
      "207  https://www.karkidi.com/job-details/86697-seni...  Full Time   \n",
      "208  https://www.karkidi.com/job-details/86696-prin...  Full Time   \n",
      "209  https://www.karkidi.com/job-details/86695-prin...  Full Time   \n",
      "\n",
      "              Scraped_Timestamp  \n",
      "0    2025-05-20T17:56:56.028158  \n",
      "1    2025-05-20T17:56:56.029094  \n",
      "2    2025-05-20T17:56:56.029800  \n",
      "3    2025-05-20T17:56:56.030515  \n",
      "4    2025-05-20T17:56:56.031249  \n",
      "..                          ...  \n",
      "205  2025-05-20T18:01:32.547597  \n",
      "206  2025-05-20T18:01:32.548226  \n",
      "207  2025-05-20T18:01:32.548833  \n",
      "208  2025-05-20T18:01:32.549420  \n",
      "209  2025-05-20T18:01:32.550058  \n",
      "\n",
      "[210 rows x 10 columns]>\n",
      "(210, 10)\n"
     ]
    }
   ],
   "source": [
    "display(df.head())\n",
    "print(df.info)\n",
    "print(df.shape)"
   ]
  },
  {
   "cell_type": "code",
   "execution_count": 4,
   "id": "12b16d4e-b04c-4745-a29d-b057ba1e0119",
   "metadata": {},
   "outputs": [
    {
     "data": {
      "text/plain": [
       "Title                0\n",
       "Company              0\n",
       "Location             0\n",
       "Experience           0\n",
       "Summary              0\n",
       "Skills               0\n",
       "Posting_Date         0\n",
       "Job_URL              0\n",
       "Job_Type             0\n",
       "Scraped_Timestamp    0\n",
       "dtype: int64"
      ]
     },
     "execution_count": 4,
     "metadata": {},
     "output_type": "execute_result"
    }
   ],
   "source": [
    "df.isnull().sum()"
   ]
  },
  {
   "cell_type": "code",
   "execution_count": 5,
   "id": "c7443b97-7223-460b-b27e-414c78b7a4e6",
   "metadata": {},
   "outputs": [
    {
     "name": "stdout",
     "output_type": "stream",
     "text": [
      "\n",
      "Unique values in 'Job_Type':\n",
      "Job_Type\n",
      "Full Time    202\n",
      "Not found      8\n",
      "Name: count, dtype: int64\n",
      "\n",
      "Unique values in 'Experience':\n",
      "Experience\n",
      "6-8 year      52\n",
      "4-6 year      51\n",
      "8-10 year     46\n",
      "2-4 year      21\n",
      "10-12 year    20\n",
      "0-2 year       8\n",
      "12-14 year     7\n",
      "14-16 year     4\n",
      "16-18 year     1\n",
      "Name: count, dtype: int64\n"
     ]
    }
   ],
   "source": [
    "if 'Job_Type' in df.columns:\n",
    "        print(\"\\nUnique values in 'Job_Type':\")\n",
    "        print(df['Job_Type'].value_counts(dropna=False))\n",
    "    \n",
    "if 'Experience' in df.columns:\n",
    "        print(\"\\nUnique values in 'Experience':\")\n",
    "        print(df['Experience'].value_counts(dropna=False).head(10))"
   ]
  },
  {
   "cell_type": "code",
   "execution_count": 6,
   "id": "0ccecd3f-b816-4473-a9b4-e3f6fa310035",
   "metadata": {},
   "outputs": [
    {
     "data": {
      "text/html": [
       "<div>\n",
       "<style scoped>\n",
       "    .dataframe tbody tr th:only-of-type {\n",
       "        vertical-align: middle;\n",
       "    }\n",
       "\n",
       "    .dataframe tbody tr th {\n",
       "        vertical-align: top;\n",
       "    }\n",
       "\n",
       "    .dataframe thead th {\n",
       "        text-align: right;\n",
       "    }\n",
       "</style>\n",
       "<table border=\"1\" class=\"dataframe\">\n",
       "  <thead>\n",
       "    <tr style=\"text-align: right;\">\n",
       "      <th></th>\n",
       "      <th>Title</th>\n",
       "      <th>Company</th>\n",
       "      <th>Location</th>\n",
       "      <th>Experience</th>\n",
       "      <th>Summary</th>\n",
       "      <th>Skills</th>\n",
       "      <th>Posting_Date</th>\n",
       "      <th>Job_URL</th>\n",
       "      <th>Job_Type</th>\n",
       "      <th>Scraped_Timestamp</th>\n",
       "    </tr>\n",
       "  </thead>\n",
       "  <tbody>\n",
       "    <tr>\n",
       "      <th>0</th>\n",
       "      <td>Machine Learning Physical Design Engineer</td>\n",
       "      <td>Google</td>\n",
       "      <td>Bengaluru, Karnataka, India</td>\n",
       "      <td>4-6 year</td>\n",
       "      <td>Minimum qualifications: Bachelor's degree in E...</td>\n",
       "      <td>Aartificial intelligence,Algorithms,Data struc...</td>\n",
       "      <td>20 May 2025</td>\n",
       "      <td>https://www.karkidi.com/job-details/89536-mach...</td>\n",
       "      <td>Full Time</td>\n",
       "      <td>2025-05-20T17:56:56.028158</td>\n",
       "    </tr>\n",
       "    <tr>\n",
       "      <th>1</th>\n",
       "      <td>Staff Software Engineer - Monetization, Poe (R...</td>\n",
       "      <td>Quora, Inc.</td>\n",
       "      <td>India</td>\n",
       "      <td>8-10 year</td>\n",
       "      <td>About Quora: Quora’s mission is to grow and sh...</td>\n",
       "      <td>Aartificial intelligence,Analytical and Proble...</td>\n",
       "      <td>17 May 2025</td>\n",
       "      <td>https://www.karkidi.com/job-details/89511-staf...</td>\n",
       "      <td>Full Time</td>\n",
       "      <td>2025-05-20T17:56:56.029094</td>\n",
       "    </tr>\n",
       "    <tr>\n",
       "      <th>2</th>\n",
       "      <td>Staff Backend Engineer - Bot Creator Ecosystem...</td>\n",
       "      <td>Quora, Inc.</td>\n",
       "      <td>India</td>\n",
       "      <td>8-10 year</td>\n",
       "      <td>About Quora: Quora’s mission is to grow and sh...</td>\n",
       "      <td>Aartificial intelligence,API,Data science tech...</td>\n",
       "      <td>14 May 2025</td>\n",
       "      <td>https://www.karkidi.com/job-details/89486-staf...</td>\n",
       "      <td>Full Time</td>\n",
       "      <td>2025-05-20T17:56:56.029800</td>\n",
       "    </tr>\n",
       "    <tr>\n",
       "      <th>3</th>\n",
       "      <td>Senior Backend Engineer - Bot Creator Ecosyste...</td>\n",
       "      <td>Quora, Inc.</td>\n",
       "      <td>India</td>\n",
       "      <td>6-8 year</td>\n",
       "      <td>About Quora: Quora’s mission is to grow and sh...</td>\n",
       "      <td>Aartificial intelligence,API,Data science tech...</td>\n",
       "      <td>14 May 2025</td>\n",
       "      <td>https://www.karkidi.com/job-details/89469-seni...</td>\n",
       "      <td>Full Time</td>\n",
       "      <td>2025-05-20T17:56:56.030515</td>\n",
       "    </tr>\n",
       "    <tr>\n",
       "      <th>4</th>\n",
       "      <td>Data Scientist Lead - AIML</td>\n",
       "      <td>JPMorgan Chase</td>\n",
       "      <td>Bengaluru, Karnataka, India</td>\n",
       "      <td>6-8 year</td>\n",
       "      <td>We have an opportunity to impact your career a...</td>\n",
       "      <td>Aartificial intelligence,Data science techniqu...</td>\n",
       "      <td>13 May 2025</td>\n",
       "      <td>https://www.karkidi.com/job-details/89455-data...</td>\n",
       "      <td>Full Time</td>\n",
       "      <td>2025-05-20T17:56:56.031249</td>\n",
       "    </tr>\n",
       "  </tbody>\n",
       "</table>\n",
       "</div>"
      ],
      "text/plain": [
       "                                               Title         Company  \\\n",
       "0          Machine Learning Physical Design Engineer          Google   \n",
       "1  Staff Software Engineer - Monetization, Poe (R...     Quora, Inc.   \n",
       "2  Staff Backend Engineer - Bot Creator Ecosystem...     Quora, Inc.   \n",
       "3  Senior Backend Engineer - Bot Creator Ecosyste...     Quora, Inc.   \n",
       "4                         Data Scientist Lead - AIML  JPMorgan Chase   \n",
       "\n",
       "                      Location Experience  \\\n",
       "0  Bengaluru, Karnataka, India   4-6 year   \n",
       "1                        India  8-10 year   \n",
       "2                        India  8-10 year   \n",
       "3                        India   6-8 year   \n",
       "4  Bengaluru, Karnataka, India   6-8 year   \n",
       "\n",
       "                                             Summary  \\\n",
       "0  Minimum qualifications: Bachelor's degree in E...   \n",
       "1  About Quora: Quora’s mission is to grow and sh...   \n",
       "2  About Quora: Quora’s mission is to grow and sh...   \n",
       "3  About Quora: Quora’s mission is to grow and sh...   \n",
       "4  We have an opportunity to impact your career a...   \n",
       "\n",
       "                                              Skills Posting_Date  \\\n",
       "0  Aartificial intelligence,Algorithms,Data struc...  20 May 2025   \n",
       "1  Aartificial intelligence,Analytical and Proble...  17 May 2025   \n",
       "2  Aartificial intelligence,API,Data science tech...  14 May 2025   \n",
       "3  Aartificial intelligence,API,Data science tech...  14 May 2025   \n",
       "4  Aartificial intelligence,Data science techniqu...  13 May 2025   \n",
       "\n",
       "                                             Job_URL   Job_Type  \\\n",
       "0  https://www.karkidi.com/job-details/89536-mach...  Full Time   \n",
       "1  https://www.karkidi.com/job-details/89511-staf...  Full Time   \n",
       "2  https://www.karkidi.com/job-details/89486-staf...  Full Time   \n",
       "3  https://www.karkidi.com/job-details/89469-seni...  Full Time   \n",
       "4  https://www.karkidi.com/job-details/89455-data...  Full Time   \n",
       "\n",
       "            Scraped_Timestamp  \n",
       "0  2025-05-20T17:56:56.028158  \n",
       "1  2025-05-20T17:56:56.029094  \n",
       "2  2025-05-20T17:56:56.029800  \n",
       "3  2025-05-20T17:56:56.030515  \n",
       "4  2025-05-20T17:56:56.031249  "
      ]
     },
     "metadata": {},
     "output_type": "display_data"
    }
   ],
   "source": [
    "object_cols = df.select_dtypes(include=['object']).columns\n",
    "for col in object_cols:\n",
    "     df[col] = df[col].str.strip() \n",
    "display(df.head())"
   ]
  },
  {
   "cell_type": "markdown",
   "id": "b65bfd95-444a-4c1f-b68d-72dc035e3c0e",
   "metadata": {},
   "source": [
    "##### Skills Column Preprocessing"
   ]
  },
  {
   "cell_type": "code",
   "execution_count": 7,
   "id": "f375fabd-5249-4819-a726-8962e97af169",
   "metadata": {},
   "outputs": [
    {
     "name": "stdout",
     "output_type": "stream",
     "text": [
      "0: Aartificial intelligence,Algorithms,Data structuring,Design,Machine learning techniques\n",
      "1: Aartificial intelligence,Analytical and Problem solving,API,Data Analysis,Database,Design,Effective communication skills,GraphQL,Large Language Models - LLMs,Next.JS,Python Programming,React.js,Teamwork,TypeScript\n",
      "2: Aartificial intelligence,API,Data science techniques,Design,Effective communication skills,Large Language Models - LLMs,Python Programming,Teamwork\n",
      "3: Aartificial intelligence,API,Data science techniques,Design,Effective communication skills,Large Language Models - LLMs,Python Programming,Teamwork\n",
      "4: Aartificial intelligence,Data science techniques,Large Language Models - LLMs,Machine learning techniques,Natural Language Processing (NLP),Python Programming\n",
      "5: Aartificial intelligence,AWS,Azure,Google Cloud Platform (GCP),Kubernetes-K8s,Large Language Models - LLMs,Machine learning techniques\n",
      "6: Design,Leadership Skill,Machine learning techniques\n",
      "7: Aartificial intelligence,Large Language Models - LLMs,Machine learning techniques,Natural Language Processing (NLP)\n",
      "8: Amazon RedShift,Apache Hadoop,Data science techniques,Google BigQuery,Google Cloud Platform (GCP),Python Programming,R Programming,SQL\n",
      "9: Algorithms,Employee life cycle,Kubernetes-K8s,Large Language Models - LLMs,Machine learning techniques,MLOps tools,Optimization\n"
     ]
    }
   ],
   "source": [
    "for i, s in enumerate(df['Skills'].head(10)):\n",
    "        print(f\"{i}: {s}\")"
   ]
  },
  {
   "cell_type": "code",
   "execution_count": 8,
   "id": "dd2789ec-f485-4381-8c95-0a55759b283c",
   "metadata": {},
   "outputs": [
    {
     "name": "stdout",
     "output_type": "stream",
     "text": [
      "0\n"
     ]
    }
   ],
   "source": [
    "skills_not_found_count = df[df['Skills'] == \"Not found\"].shape[0] # Not found : set by the scrapping code \n",
    "print(skills_not_found_count)"
   ]
  },
  {
   "cell_type": "markdown",
   "id": "21cf1c1d-7bce-4bb1-96ca-6114976f2f69",
   "metadata": {},
   "source": [
    "##### Tokenizing skill column"
   ]
  },
  {
   "cell_type": "code",
   "execution_count": 17,
   "id": "f3132f34-9acf-49be-9be7-ad123e3790cd",
   "metadata": {},
   "outputs": [
    {
     "name": "stdout",
     "output_type": "stream",
     "text": [
      "0      Aartificial intelligence,Algorithms,Data struc...\n",
      "1      Aartificial intelligence,Analytical and Proble...\n",
      "2      Aartificial intelligence,API,Data science tech...\n",
      "3      Aartificial intelligence,API,Data science tech...\n",
      "4      Aartificial intelligence,Data science techniqu...\n",
      "                             ...                        \n",
      "205    Data science techniques,Database,MATLAB Progra...\n",
      "206    Aartificial intelligence,C++,Data Classificati...\n",
      "207    Amazon RedShift,Amazon Simple Storage Service ...\n",
      "208    Aartificial intelligence,Analytical and Proble...\n",
      "209    Amazon RedShift,Amazon Simple Storage Service ...\n",
      "Name: Skills, Length: 210, dtype: object\n",
      "0      [aartificial intelligence, algorithms, data st...\n",
      "1      [aartificial intelligence, analytical and prob...\n",
      "2      [aartificial intelligence, api, data science t...\n",
      "3      [aartificial intelligence, api, data science t...\n",
      "4      [aartificial intelligence, data science techni...\n",
      "                             ...                        \n",
      "205    [data science techniques, database, matlab pro...\n",
      "206    [aartificial intelligence, c++, data classific...\n",
      "207    [amazon redshift, amazon simple storage servic...\n",
      "208    [aartificial intelligence, analytical and prob...\n",
      "209    [amazon redshift, amazon simple storage servic...\n",
      "Name: Processed_Skill_Tokens, Length: 210, dtype: object\n"
     ]
    }
   ],
   "source": [
    "def tokenize_and_clean_individual_skills(skill_string_raw):\n",
    "        #lowercase\n",
    "        skill_string_lower = skill_string_raw.lower()\n",
    "\n",
    "        #Split by comma to get initial tokens\n",
    "        initial_tokens = skill_string_lower.split(',')\n",
    "        \n",
    "        cleaned_skill_list = []\n",
    "        for token in initial_tokens:\n",
    "            #Strip whitespace from each potential skill\n",
    "            processed_token = token.strip()\n",
    "            \n",
    "            #Remove content within parentheses ( \"google cloud platform (gcp)\" to \"google cloud platform\")\n",
    "            processed_token = re.sub(r'\\s*\\([^)]*\\)', '', processed_token).strip()\n",
    "            \n",
    "            #Replace punctuation with a space to separate words (not ., +, #, -)\n",
    "            processed_token = re.sub(r'[^a-z0-9\\s\\.\\+\\#\\-]', ' ', processed_token)\n",
    "            \n",
    "            #multiple spaces into a single space\n",
    "            processed_token = ' '.join(processed_token.split())\n",
    "            \n",
    "            if processed_token: \n",
    "                cleaned_skill_list.append(processed_token)\n",
    "        \n",
    "        return cleaned_skill_list\n",
    "\n",
    "    \n",
    "df['Processed_Skill_Tokens'] = df['Skills'].apply(tokenize_and_clean_individual_skills)\n",
    "print(df['Skills'])\n",
    "print(df['Processed_Skill_Tokens'])\n",
    "\n",
    "    "
   ]
  },
  {
   "cell_type": "code",
   "execution_count": 18,
   "id": "067e652b-a768-43a5-bffc-0ff0d5ad00ab",
   "metadata": {},
   "outputs": [
    {
     "name": "stdout",
     "output_type": "stream",
     "text": [
      "\n",
      "Number of jobs with an empty list of skills after processing: 0\n"
     ]
    }
   ],
   "source": [
    "# jobs without skills afterprocessing\n",
    "no_skills_count = df[df['Processed_Skill_Tokens'].map(len) == 0].shape[0]\n",
    "print(f\"\\nNumber of jobs with an empty list of skills after processing: {no_skills_count}\")"
   ]
  },
  {
   "cell_type": "markdown",
   "id": "f7c5fcfe-2541-42c0-ad61-5fd2c86f91bc",
   "metadata": {},
   "source": [
    "#### TFIDF Vectorization"
   ]
  },
  {
   "cell_type": "code",
   "execution_count": 19,
   "id": "a823750f-e393-42ef-ba71-68ecf1be332f",
   "metadata": {},
   "outputs": [
    {
     "data": {
      "text/html": [
       "<div>\n",
       "<style scoped>\n",
       "    .dataframe tbody tr th:only-of-type {\n",
       "        vertical-align: middle;\n",
       "    }\n",
       "\n",
       "    .dataframe tbody tr th {\n",
       "        vertical-align: top;\n",
       "    }\n",
       "\n",
       "    .dataframe thead th {\n",
       "        text-align: right;\n",
       "    }\n",
       "</style>\n",
       "<table border=\"1\" class=\"dataframe\">\n",
       "  <thead>\n",
       "    <tr style=\"text-align: right;\">\n",
       "      <th></th>\n",
       "      <th>Skills</th>\n",
       "      <th>Skills_For_TFIDF</th>\n",
       "    </tr>\n",
       "  </thead>\n",
       "  <tbody>\n",
       "    <tr>\n",
       "      <th>0</th>\n",
       "      <td>Aartificial intelligence,Algorithms,Data struc...</td>\n",
       "      <td>aartificial intelligence algorithms data struc...</td>\n",
       "    </tr>\n",
       "    <tr>\n",
       "      <th>1</th>\n",
       "      <td>Aartificial intelligence,Analytical and Proble...</td>\n",
       "      <td>aartificial intelligence analytical and proble...</td>\n",
       "    </tr>\n",
       "    <tr>\n",
       "      <th>2</th>\n",
       "      <td>Aartificial intelligence,API,Data science tech...</td>\n",
       "      <td>aartificial intelligence api data science tech...</td>\n",
       "    </tr>\n",
       "    <tr>\n",
       "      <th>3</th>\n",
       "      <td>Aartificial intelligence,API,Data science tech...</td>\n",
       "      <td>aartificial intelligence api data science tech...</td>\n",
       "    </tr>\n",
       "    <tr>\n",
       "      <th>4</th>\n",
       "      <td>Aartificial intelligence,Data science techniqu...</td>\n",
       "      <td>aartificial intelligence data science techniqu...</td>\n",
       "    </tr>\n",
       "    <tr>\n",
       "      <th>5</th>\n",
       "      <td>Aartificial intelligence,AWS,Azure,Google Clou...</td>\n",
       "      <td>aartificial intelligence aws azure google clou...</td>\n",
       "    </tr>\n",
       "    <tr>\n",
       "      <th>6</th>\n",
       "      <td>Design,Leadership Skill,Machine learning techn...</td>\n",
       "      <td>design leadership skill machine learning techn...</td>\n",
       "    </tr>\n",
       "    <tr>\n",
       "      <th>7</th>\n",
       "      <td>Aartificial intelligence,Large Language Models...</td>\n",
       "      <td>aartificial intelligence large language models...</td>\n",
       "    </tr>\n",
       "    <tr>\n",
       "      <th>8</th>\n",
       "      <td>Amazon RedShift,Apache Hadoop,Data science tec...</td>\n",
       "      <td>amazon redshift apache hadoop data science tec...</td>\n",
       "    </tr>\n",
       "    <tr>\n",
       "      <th>9</th>\n",
       "      <td>Algorithms,Employee life cycle,Kubernetes-K8s,...</td>\n",
       "      <td>algorithms employee life cycle kubernetes-k8s ...</td>\n",
       "    </tr>\n",
       "  </tbody>\n",
       "</table>\n",
       "</div>"
      ],
      "text/plain": [
       "                                              Skills  \\\n",
       "0  Aartificial intelligence,Algorithms,Data struc...   \n",
       "1  Aartificial intelligence,Analytical and Proble...   \n",
       "2  Aartificial intelligence,API,Data science tech...   \n",
       "3  Aartificial intelligence,API,Data science tech...   \n",
       "4  Aartificial intelligence,Data science techniqu...   \n",
       "5  Aartificial intelligence,AWS,Azure,Google Clou...   \n",
       "6  Design,Leadership Skill,Machine learning techn...   \n",
       "7  Aartificial intelligence,Large Language Models...   \n",
       "8  Amazon RedShift,Apache Hadoop,Data science tec...   \n",
       "9  Algorithms,Employee life cycle,Kubernetes-K8s,...   \n",
       "\n",
       "                                    Skills_For_TFIDF  \n",
       "0  aartificial intelligence algorithms data struc...  \n",
       "1  aartificial intelligence analytical and proble...  \n",
       "2  aartificial intelligence api data science tech...  \n",
       "3  aartificial intelligence api data science tech...  \n",
       "4  aartificial intelligence data science techniqu...  \n",
       "5  aartificial intelligence aws azure google clou...  \n",
       "6  design leadership skill machine learning techn...  \n",
       "7  aartificial intelligence large language models...  \n",
       "8  amazon redshift apache hadoop data science tec...  \n",
       "9  algorithms employee life cycle kubernetes-k8s ...  "
      ]
     },
     "metadata": {},
     "output_type": "display_data"
    },
    {
     "name": "stdout",
     "output_type": "stream",
     "text": [
      "\n",
      "Missing values in 'Skills_For_TFIDF': 0\n"
     ]
    }
   ],
   "source": [
    "# For TF-IDF vectorization. join these tokens back\n",
    "df['Skills_For_TFIDF'] = df['Processed_Skill_Tokens'].apply(lambda tokens_list: ' '.join(tokens_list))\n",
    "display(df[df['Skills_For_TFIDF'] != ''][['Skills', 'Skills_For_TFIDF']].head(10))\n",
    "\n",
    "#checking if empty strings are joined    \n",
    "print(f\"\\nMissing values in 'Skills_For_TFIDF': {df['Skills_For_TFIDF'].isnull().sum()}\")"
   ]
  },
  {
   "cell_type": "code",
   "execution_count": 22,
   "id": "cfd08fef-c757-4eae-9f01-6f471fb5cc43",
   "metadata": {},
   "outputs": [],
   "source": [
    "tfidf_vectorizer = TfidfVectorizer(\n",
    "        max_df=0.90,  # ignore terms that appear in more than 90% of jobs \n",
    "        min_df=2,     # Ignore terms that appear in only 1 job \n",
    "        ngram_range=(1, 2), # Consider single words and two-word phrases \n",
    "        stop_words=None #cleaning already done \n",
    ")\n"
   ]
  },
  {
   "cell_type": "code",
   "execution_count": 25,
   "id": "9afd7182-64bf-4398-9441-18780d50f095",
   "metadata": {},
   "outputs": [
    {
     "name": "stdout",
     "output_type": "stream",
     "text": [
      "\n",
      "shape of matrix:(210, 542)\n",
      "\n",
      "Number of unique features: 542\n",
      "First 50 features (skills/n-grams):\n",
      "['3d', '3d data', 'aartificial', 'aartificial intelligence', 'account', 'account management', 'agile', 'agile methodologies', 'ai', 'ai effective', 'ai google', 'ai linux', 'ai machine', 'airflow', 'airflow continuous', 'algorithms', 'algorithms analytical', 'algorithms apache', 'algorithms data', 'algorithms linux', 'amazon', 'amazon elastic', 'amazon redshift', 'amazon simple', 'analysis', 'analysis data', 'analytical', 'analytical and', 'analytics', 'analytics data', 'analytics product', 'and', 'and organization', 'and problem', 'ansible', 'apache', 'apache airflow', 'apache cassandra', 'apache flink', 'apache hadoop', 'apache hive', 'apache kafka', 'api', 'api aws', 'api data', 'as', 'as code', 'aws', 'aws azure', 'aws continuous']\n"
     ]
    }
   ],
   "source": [
    "skills_text_series = df['Skills_For_TFIDF'].fillna('') \n",
    "\n",
    "tfidf_matrix = tfidf_vectorizer.fit_transform(skills_text_series)\n",
    "\n",
    "print(f\"\\nshape of matrix:{tfidf_matrix.shape}\")\n",
    "\n",
    "feature_names = tfidf_vectorizer.get_feature_names_out()\n",
    "print(f\"\\nNumber of unique features: {len(feature_names)}\")\n",
    "print(\"First 50 features (skills/n-grams):\")\n",
    "print(list(feature_names[:50]))"
   ]
  },
  {
   "cell_type": "code",
   "execution_count": 28,
   "id": "62e87626-b0d1-44f5-9312-db4d3ec81e8b",
   "metadata": {},
   "outputs": [
    {
     "name": "stdout",
     "output_type": "stream",
     "text": [
      "TfidfVectorizer saved to: models/tfidf_vectorizer.joblib\n"
     ]
    }
   ],
   "source": [
    "models_dir = 'models'\n",
    "if not os.path.exists(models_dir):\n",
    "        os.makedirs(models_dir)\n",
    "    \n",
    "vectorizer_path = os.path.join(models_dir, 'tfidf_vectorizer.joblib')\n",
    "joblib.dump(tfidf_vectorizer, vectorizer_path)\n",
    "print(rf\"TfidfVectorizer saved to: {vectorizer_path}\")\n"
   ]
  },
  {
   "cell_type": "markdown",
   "id": "06862b50-abbc-4d69-ad27-16af31e7e30a",
   "metadata": {},
   "source": [
    "#### K Means Clustering - Finding optimal K "
   ]
  },
  {
   "cell_type": "code",
   "execution_count": 30,
   "id": "a1ba1ad0-3728-4b20-b8ff-4054e5750435",
   "metadata": {},
   "outputs": [],
   "source": [
    "k_range = range(2, 21)\n",
    "inertia_values = []\n",
    "silhouette_scores = []\n"
   ]
  },
  {
   "cell_type": "code",
   "execution_count": 31,
   "id": "256aab52-5e72-4d1d-af24-a59d9daca963",
   "metadata": {},
   "outputs": [
    {
     "name": "stdout",
     "output_type": "stream",
     "text": [
      "Calculating Inertial values and Silhouette Scores for different k values\n",
      "For K=2, Inertia: 174.54, Silhouette Score: 0.0515\n",
      "For K=3, Inertia: 167.34, Silhouette Score: 0.0600\n",
      "For K=4, Inertia: 164.89, Silhouette Score: 0.0574\n",
      "For K=5, Inertia: 158.73, Silhouette Score: 0.0651\n",
      "For K=6, Inertia: 155.27, Silhouette Score: 0.0677\n",
      "For K=7, Inertia: 153.55, Silhouette Score: 0.0643\n",
      "For K=8, Inertia: 150.62, Silhouette Score: 0.0640\n",
      "For K=9, Inertia: 148.67, Silhouette Score: 0.0630\n",
      "For K=10, Inertia: 146.52, Silhouette Score: 0.0645\n",
      "For K=11, Inertia: 144.45, Silhouette Score: 0.0658\n",
      "For K=12, Inertia: 143.07, Silhouette Score: 0.0628\n",
      "For K=13, Inertia: 141.86, Silhouette Score: 0.0600\n",
      "For K=14, Inertia: 140.12, Silhouette Score: 0.0618\n",
      "For K=15, Inertia: 137.78, Silhouette Score: 0.0672\n",
      "For K=16, Inertia: 136.72, Silhouette Score: 0.0660\n",
      "For K=17, Inertia: 134.21, Silhouette Score: 0.0574\n",
      "For K=18, Inertia: 131.94, Silhouette Score: 0.0551\n",
      "For K=19, Inertia: 130.21, Silhouette Score: 0.0583\n",
      "For K=20, Inertia: 128.95, Silhouette Score: 0.0593\n"
     ]
    }
   ],
   "source": [
    "print(\"Calculating Inertial values and Silhouette Scores for different k values\")\n",
    "for k_val in k_range:\n",
    "    kmeans = KMeans(n_clusters=k_val, n_init='auto', random_state=42)\n",
    "    kmeans.fit(tfidf_matrix)\n",
    "\n",
    "    inertia_values.append(kmeans.inertia_)\n",
    "\n",
    "    cluster_labels = kmeans.labels_\n",
    "    silhouette_avg = silhouette_score(tfidf_matrix, cluster_labels)\n",
    "    silhouette_scores.append(silhouette_avg)\n",
    "\n",
    "    print(f\"For K={k_val}, Inertia: {kmeans.inertia_:.2f}, Silhouette Score: {silhouette_avg:.4f}\")"
   ]
  },
  {
   "cell_type": "code",
   "execution_count": 35,
   "id": "e31e5462-1e06-45f2-97eb-a70fee24451e",
   "metadata": {},
   "outputs": [
    {
     "data": {
      "image/png": "[encoded data removed]",
      "text/plain": [
       "<Figure size 800x400 with 1 Axes>"
      ]
     },
     "metadata": {},
     "output_type": "display_data"
    }
   ],
   "source": [
    "plt.figure(figsize=(8, 4))\n",
    "plt.plot(list(k_range), inertia_values, marker='o', linestyle='--')\n",
    "plt.xlabel(\"K\")\n",
    "plt.ylabel(\"Inertia - Sum of Squared Distances\")\n",
    "plt.title(\"Elbow Method for Optimal K\")\n",
    "plt.xticks(list(k_range))\n",
    "plt.grid(True)"
   ]
  },
  {
   "cell_type": "code",
   "execution_count": 37,
   "id": "0afa2406-bdf1-400b-9657-dd5025aa0a05",
   "metadata": {},
   "outputs": [
    {
     "data": {
      "image/png": "[encoded data removed]",
      "text/plain": [
       "<Figure size 800x400 with 1 Axes>"
      ]
     },
     "metadata": {},
     "output_type": "display_data"
    }
   ],
   "source": [
    "plt.figure(figsize=(8, 4))\n",
    "plt.plot(list(k_range), silhouette_scores, marker='o', linestyle='--')\n",
    "plt.xlabel(\"K\")\n",
    "plt.ylabel(\"Average Silhouette Score\")\n",
    "plt.title(\"Silhouette Scores for Optimal K\")\n",
    "plt.xticks(list(k_range))\n",
    "plt.grid(True)"
   ]
  },
  {
   "cell_type": "markdown",
   "id": "3a4426c2-9360-4b1a-ad87-45370217c75e",
   "metadata": {},
   "source": [
    "Note: \n",
    "\n",
    "The Elbow method suggests a K around 5 to 7.\n",
    "\n",
    "The Silhouette scores show a prominent peak at K=6, and other notable peaks at K=11 and K=15.\n",
    "\n",
    "Considering both we may chose K = 6"
   ]
  },
  {
   "cell_type": "markdown",
   "id": "f4baf410-d892-48bf-bc7f-5e004b42e5d2",
   "metadata": {},
   "source": [
    "#### K means model training "
   ]
  },
  {
   "cell_type": "code",
   "execution_count": 41,
   "id": "b8d7149b-8f76-46a3-9a38-b0ada48efcd1",
   "metadata": {},
   "outputs": [
    {
     "name": "stdout",
     "output_type": "stream",
     "text": [
      "K means model trained\n"
     ]
    }
   ],
   "source": [
    "chosen_k = 6\n",
    "\n",
    "kmeans_final_model = KMeans(n_clusters=chosen_k, n_init='auto', random_state=42)\n",
    "print(\"K means model trained\")"
   ]
  },
  {
   "cell_type": "code",
   "execution_count": 42,
   "id": "167b61ff-e24a-46b7-9eeb-01462bdcee8f",
   "metadata": {},
   "outputs": [
    {
     "data": {
      "text/html": [
       "<div>\n",
       "<style scoped>\n",
       "    .dataframe tbody tr th:only-of-type {\n",
       "        vertical-align: middle;\n",
       "    }\n",
       "\n",
       "    .dataframe tbody tr th {\n",
       "        vertical-align: top;\n",
       "    }\n",
       "\n",
       "    .dataframe thead th {\n",
       "        text-align: right;\n",
       "    }\n",
       "</style>\n",
       "<table border=\"1\" class=\"dataframe\">\n",
       "  <thead>\n",
       "    <tr style=\"text-align: right;\">\n",
       "      <th></th>\n",
       "      <th>Title</th>\n",
       "      <th>Skills_For_TFIDF</th>\n",
       "      <th>Cluster_Label</th>\n",
       "    </tr>\n",
       "  </thead>\n",
       "  <tbody>\n",
       "    <tr>\n",
       "      <th>0</th>\n",
       "      <td>Machine Learning Physical Design Engineer</td>\n",
       "      <td>aartificial intelligence algorithms data struc...</td>\n",
       "      <td>0</td>\n",
       "    </tr>\n",
       "    <tr>\n",
       "      <th>1</th>\n",
       "      <td>Staff Software Engineer - Monetization, Poe (R...</td>\n",
       "      <td>aartificial intelligence analytical and proble...</td>\n",
       "      <td>2</td>\n",
       "    </tr>\n",
       "    <tr>\n",
       "      <th>2</th>\n",
       "      <td>Staff Backend Engineer - Bot Creator Ecosystem...</td>\n",
       "      <td>aartificial intelligence api data science tech...</td>\n",
       "      <td>0</td>\n",
       "    </tr>\n",
       "    <tr>\n",
       "      <th>3</th>\n",
       "      <td>Senior Backend Engineer - Bot Creator Ecosyste...</td>\n",
       "      <td>aartificial intelligence api data science tech...</td>\n",
       "      <td>0</td>\n",
       "    </tr>\n",
       "    <tr>\n",
       "      <th>4</th>\n",
       "      <td>Data Scientist Lead - AIML</td>\n",
       "      <td>aartificial intelligence data science techniqu...</td>\n",
       "      <td>0</td>\n",
       "    </tr>\n",
       "  </tbody>\n",
       "</table>\n",
       "</div>"
      ],
      "text/plain": [
       "                                               Title  \\\n",
       "0          Machine Learning Physical Design Engineer   \n",
       "1  Staff Software Engineer - Monetization, Poe (R...   \n",
       "2  Staff Backend Engineer - Bot Creator Ecosystem...   \n",
       "3  Senior Backend Engineer - Bot Creator Ecosyste...   \n",
       "4                         Data Scientist Lead - AIML   \n",
       "\n",
       "                                    Skills_For_TFIDF  Cluster_Label  \n",
       "0  aartificial intelligence algorithms data struc...              0  \n",
       "1  aartificial intelligence analytical and proble...              2  \n",
       "2  aartificial intelligence api data science tech...              0  \n",
       "3  aartificial intelligence api data science tech...              0  \n",
       "4  aartificial intelligence data science techniqu...              0  "
      ]
     },
     "metadata": {},
     "output_type": "display_data"
    }
   ],
   "source": [
    "cluster_labels = kmeans_final_model.fit_predict(tfidf_matrix)\n",
    "\n",
    "df['Cluster_Label'] = cluster_labels # adding cluster labels to a new column \n",
    "display(df[['Title', 'Skills_For_TFIDF', 'Cluster_Label']].head())\n"
   ]
  },
  {
   "cell_type": "code",
   "execution_count": 43,
   "id": "6d7bb90d-e4cc-4fbf-a0e2-00af87f0a2b0",
   "metadata": {},
   "outputs": [
    {
     "name": "stdout",
     "output_type": "stream",
     "text": [
      "Distribution of jobs across clusters\n",
      "Cluster_Label\n",
      "0    59\n",
      "1    29\n",
      "2    16\n",
      "3    37\n",
      "4    43\n",
      "5    26\n",
      "Name: count, dtype: int64\n"
     ]
    }
   ],
   "source": [
    "print(\"Distribution of jobs across clusters\")\n",
    "print(df['Cluster_Label'].value_counts().sort_index())"
   ]
  },
  {
   "cell_type": "markdown",
   "id": "b404e5de-6e66-4647-9d2c-54be6ba29313",
   "metadata": {},
   "source": [
    "Note:\n",
    "\n",
    "don't have any clusters that are extremely tiny\n",
    "\n",
    "K-Means was able to find meaningful groupings"
   ]
  },
  {
   "cell_type": "code",
   "execution_count": 45,
   "id": "9bc32bd7-c4b2-45ec-ba00-4d051d966de5",
   "metadata": {},
   "outputs": [
    {
     "name": "stdout",
     "output_type": "stream",
     "text": [
      "\n",
      "Trained K-Means model (K=6) saved to: models/kmeans_model.joblib\n"
     ]
    }
   ],
   "source": [
    "models_dir = 'models' \n",
    "if not os.path.exists(models_dir):\n",
    "    os.makedirs(models_dir)\n",
    "        \n",
    "model_path = os.path.join(models_dir, 'kmeans_model.joblib')\n",
    "joblib.dump(kmeans_final_model, model_path)\n",
    "print(f\"\\nTrained K-Means model (K={chosen_k}) saved to: {model_path}\")"
   ]
  },
  {
   "cell_type": "code",
   "execution_count": 46,
   "id": "7b5a3c3a-a000-4aaa-a0a5-35d4a46e1f4a",
   "metadata": {},
   "outputs": [],
   "source": [
    "#save the DataFrame with the cluster labels for easy access\n",
    "processed_csv_with_clusters_path = 'data/karkidi_jobs_processed_with_clusters.csv'\n",
    "df.to_csv(processed_csv_with_clusters_path, index=False)"
   ]
  },
  {
   "cell_type": "markdown",
   "id": "a34e5b3e-917e-4ec2-a900-e7edd5295064",
   "metadata": {},
   "source": [
    "#### Interpreting the Clusters"
   ]
  },
  {
   "cell_type": "code",
   "execution_count": 52,
   "id": "7a1e15f1-8169-486a-99b1-31919b688512",
   "metadata": {},
   "outputs": [
    {
     "name": "stdout",
     "output_type": "stream",
     "text": [
      "\n",
      "Cluster 0:\n",
      "  - language (score: 0.1106)\n",
      "  - aartificial intelligence (score: 0.1098)\n",
      "  - intelligence (score: 0.1098)\n",
      "  - aartificial (score: 0.1098)\n",
      "  - learning (score: 0.0829)\n",
      "  - techniques (score: 0.0740)\n",
      "  - programming (score: 0.0730)\n",
      "  - natural (score: 0.0709)\n",
      "  - natural language (score: 0.0709)\n",
      "  - language processing (score: 0.0709)\n",
      "  - learning techniques (score: 0.0707)\n",
      "  - machine learning (score: 0.0707)\n",
      "  - machine (score: 0.0707)\n",
      "  - processing (score: 0.0695)\n",
      "  - language models (score: 0.0643)\n",
      "\n",
      "Cluster 1:\n",
      "  - operating (score: 0.2725)\n",
      "  - system (score: 0.2725)\n",
      "  - operating system (score: 0.2725)\n",
      "  - linux (score: 0.1511)\n",
      "  - linux operating (score: 0.1511)\n",
      "  - unix operating (score: 0.1302)\n",
      "  - unix (score: 0.1302)\n",
      "  - design (score: 0.1018)\n",
      "  - system machine (score: 0.0971)\n",
      "  - programming (score: 0.0890)\n",
      "  - programming pytorch (score: 0.0856)\n",
      "  - pytorch (score: 0.0785)\n",
      "  - ui design (score: 0.0676)\n",
      "  - ui (score: 0.0676)\n",
      "  - aartificial (score: 0.0669)\n",
      "\n",
      "Cluster 2:\n",
      "  - amazon (score: 0.1047)\n",
      "  - apache (score: 0.1009)\n",
      "  - analytical and (score: 0.0976)\n",
      "  - problem solving (score: 0.0976)\n",
      "  - solving (score: 0.0976)\n",
      "  - and problem (score: 0.0976)\n",
      "  - analytical (score: 0.0976)\n",
      "  - problem (score: 0.0976)\n",
      "  - and (score: 0.0887)\n",
      "  - amazon simple (score: 0.0681)\n",
      "  - storage service (score: 0.0681)\n",
      "  - storage (score: 0.0681)\n",
      "  - service (score: 0.0681)\n",
      "  - simple (score: 0.0681)\n",
      "  - simple storage (score: 0.0681)\n",
      "\n",
      "Cluster 3:\n",
      "  - continuous (score: 0.1834)\n",
      "  - ci (score: 0.0917)\n",
      "  - continuous integration (score: 0.0917)\n",
      "  - integration continuous (score: 0.0917)\n",
      "  - ci cd (score: 0.0917)\n",
      "  - integration (score: 0.0917)\n",
      "  - delivery (score: 0.0917)\n",
      "  - delivery ci (score: 0.0917)\n",
      "  - continuous delivery (score: 0.0917)\n",
      "  - cd (score: 0.0917)\n",
      "  - google (score: 0.0907)\n",
      "  - aws (score: 0.0834)\n",
      "  - google cloud (score: 0.0830)\n",
      "  - platform (score: 0.0830)\n",
      "  - cloud platform (score: 0.0830)\n",
      "\n",
      "Cluster 4:\n",
      "  - data (score: 0.2056)\n",
      "  - data science (score: 0.1336)\n",
      "  - science (score: 0.1336)\n",
      "  - science techniques (score: 0.1336)\n",
      "  - techniques (score: 0.1246)\n",
      "  - programming (score: 0.1017)\n",
      "  - sql (score: 0.0991)\n",
      "  - analytics (score: 0.0868)\n",
      "  - techniques data (score: 0.0847)\n",
      "  - data analytics (score: 0.0829)\n",
      "  - communication (score: 0.0812)\n",
      "  - effective communication (score: 0.0812)\n",
      "  - effective (score: 0.0812)\n",
      "  - communication skills (score: 0.0812)\n",
      "  - skills (score: 0.0806)\n",
      "\n",
      "Cluster 5:\n",
      "  - programming (score: 0.1448)\n",
      "  - data (score: 0.1275)\n",
      "  - big data (score: 0.1086)\n",
      "  - big (score: 0.1086)\n",
      "  - data technology (score: 0.1086)\n",
      "  - technology (score: 0.1069)\n",
      "  - apache (score: 0.0916)\n",
      "  - hadoop (score: 0.0796)\n",
      "  - apache hadoop (score: 0.0796)\n",
      "  - learning (score: 0.0786)\n",
      "  - techniques (score: 0.0779)\n",
      "  - java programming (score: 0.0749)\n",
      "  - java (score: 0.0749)\n",
      "  - spark (score: 0.0711)\n",
      "  - machine (score: 0.0699)\n"
     ]
    }
   ],
   "source": [
    "#Top terms per cluster \n",
    "terms = tfidf_vectorizer.get_feature_names_out() #feature names from vectorizer \n",
    "cluster_centers = kmeans_final_model.cluster_centers_ #cluster centroids \n",
    "\n",
    "top_n_terms = 15 # number of terms to display \n",
    "for i, centroid in enumerate(cluster_centers):\n",
    "    print(f\"\\nCluster {i}:\")\n",
    "    top_term_indices = centroid.argsort()[-top_n_terms:][::-1] #indices of top terms \n",
    "\n",
    "    cluster_terms = [(terms[index], centroid[index]) for index in top_term_indices] #actual terms \n",
    "\n",
    "    for term, score in cluster_terms:\n",
    "            print(f\"  - {term} (score: {score:.4f})\")"
   ]
  },
  {
   "cell_type": "markdown",
   "id": "a5209aeb-805e-4053-a083-d07479f88d8e",
   "metadata": {},
   "source": [
    "#### Based on Results\n",
    "\n",
    "    0: Natural Language Processing & ML,\n",
    "    \n",
    "    1: Systems Programming (Linux/Unix) & PyTorch,\n",
    "    \n",
    "    2: Cloud Data Services (AWS & Apache),\n",
    "    \n",
    "    3: DevOps & Multi-Cloud Platforms (AWS/GCP),\n",
    "    \n",
    "    4: Data Science & Analytics (SQL & Programming)\n",
    "    \n",
    "    5: Big Data Engineering (Java, Spark, Hadoop)\n"
   ]
  }
 ],
 "metadata": {
  "kernelspec": {
   "display_name": "Python 3 (ipykernel)",
   "language": "python",
   "name": "python3"
  },
  "language_info": {
   "codemirror_mode": {
    "name": "ipython",
    "version": 3
   },
   "file_extension": ".py",
   "mimetype": "text/x-python",
   "name": "python",
   "nbconvert_exporter": "python",
   "pygments_lexer": "ipython3",
   "version": "3.12.4"
  }
 },
 "nbformat": 4,
 "nbformat_minor": 5
}
